{
 "cells": [
  {
   "cell_type": "markdown",
   "metadata": {},
   "source": [
    "# Proyecto: Relevando Peligros"
   ]
  },
  {
   "cell_type": "markdown",
   "metadata": {},
   "source": [
    "Fundacion Relevando Peligros es una ONG de la provincia de Cordoba que se encarga de relevar peligros en la via publica para luego tramitarlo a las entidades encargadas de darle solucion.\n",
    "Para mas informacion:\n",
    "http://relevandopeligros.org/"
   ]
  },
  {
   "cell_type": "markdown",
   "metadata": {},
   "source": [
    "## Dataset: Peligros Relevados en la Republica Argentina"
   ]
  },
  {
   "cell_type": "markdown",
   "metadata": {},
   "source": [
    "A continuación vamos a describir los atributos que consideramos en esta muestra:\n",
    "\n",
    "* id: id del peligro\n",
    "* Titulo: Concatenacion de la direccion, localidad y provincia.\n",
    "* Descripcion: Texto que describe el peligro encontrado\n",
    "* FechaRegistro: Fecha en la que se registro el peligro en la plataforma\n",
    "* FechaBaja: Fecha en la que se dio de baja el peligro en la plataforma, por un administrador. Puede ser devido a multiples casos.\n",
    "* Codigo: valor alfanumerico de 6 caracteres generado aleatoriamente para distinguir a cada registro\n",
    "* idOrigenRegistro: Numero entero que representa por que medio fue registrado un peligros: 1 pagina web, 2 aplicacion movil.\n",
    "* idEstadoRegistro: Numero entero que representa el estado en el que se encuentra un peligro: 1. Registrado, 2. Tramitado, 3. Solucionado, 4. Rechazado\n",
    "* idPrioridad: Numero entero que clasifica a un peligro segun es Electrico o No Electrico: 1. Electrico, 2. No Electrico\n",
    "* idUsuarioRegistrante: Numero entero que identifica que usuario registro el peligro\n",
    "* Latitud: latitud del peligro, obtenida a partir de la direccion ingresada\n",
    "* Longitud: longitud del peligro, obtenida a partir de la direccion ingresada\n",
    "* FechaSolucion: fecha en la que fue registrada la solucion de un peligro\n",
    "\n",
    "El data set esta siendo actualizado por miembros de la fundacion para asignar categoria a 3.500 peligros que no lo tenian asignado.\n",
    "Tambien se actualizara los estados de los peligros."
   ]
  },
  {
   "cell_type": "markdown",
   "metadata": {},
   "source": [
    "### FAQS"
   ]
  },
  {
   "cell_type": "markdown",
   "metadata": {},
   "source": [
    "**1) ¿Que relacion hay entre la tabla de peligros y accidentes?**\n",
    "\n",
    "Ninguna. Los accidentes fueron tomados de noticias publicadas en internet, con la particularidad de que son accidentes provocados por peligros electricos (algunos de ellos en la via publica). Como desafio se podria intentar generar algun tipo de vinculo entre los peligros y los accidentes registrados.\n",
    "\n",
    "**2) ¿Como se obtuvieron los datos de la latitud y longitud?**\n",
    "\n",
    "Los usuarios al registrar el peligro deben seleccionar la direccion donde encontraron el peligro. A partir de esos datos, se toma desde la API de google la latitud y longitud para la direccion especificada.\n",
    "\n",
    "**3) ¿Los peligros son solo de Cordoba?**\n",
    "\n",
    "No. La gran mayoria de los peligros fueron registrados en la provincia de Cordoba. Pero existen algunos distribuidos en otras provincias: Chubut, Salta, Buenos Aires, entre otras.\n",
    "\n",
    "**4) ¿Quienes registran los peligros?**\n",
    "\n",
    "La gran mayoria de los peligros son regsitrados por miembros de la Fundacion Relevando Peligros capacitados para tal tarea. Estas personas suelen trabajar en las zonas centricas de la provincia y no tanto en las adyacencias. Los ciudadanos tambien registran peligros. Podran distinguir a los peligros registrados por miembros de la fundacion de los ciudadanos filtrando por los siguientes valores en idUsuarioRegistrante: \n",
    "\n",
    "**5) ¿Como puedo distinguir a un peligro que fue eliminado?**\n",
    "\n",
    "Los peligros eliminados tienen una fecha asignada a la variable FechaBaja, ademas del idEstado = 4. Aquellos que tengan fechaBaja != null se pueden considerar como No Eliminados"
   ]
  },
  {
   "cell_type": "code",
   "execution_count": null,
   "metadata": {},
   "outputs": [],
   "source": []
  }
 ],
 "metadata": {
  "kernelspec": {
   "display_name": "Python 3",
   "language": "python",
   "name": "python3"
  },
  "language_info": {
   "codemirror_mode": {
    "name": "ipython",
    "version": 3
   },
   "file_extension": ".py",
   "mimetype": "text/x-python",
   "name": "python",
   "nbconvert_exporter": "python",
   "pygments_lexer": "ipython3",
   "version": "3.7.1"
  }
 },
 "nbformat": 4,
 "nbformat_minor": 2
}
